{
 "cells": [
  {
   "cell_type": "markdown",
   "id": "33a2fcff",
   "metadata": {},
   "source": [
    "# Sample Jupyter Notebook\n",
    "\n",
    "\n",
    "\n",
    "#### <i>Jennifer Souvannasing</i>\n"
   ]
  },
  {
   "cell_type": "markdown",
   "id": "e586df7e",
   "metadata": {},
   "source": [
    "## Subheading 1: Code Chunk Example"
   ]
  },
  {
   "cell_type": "code",
   "execution_count": 8,
   "id": "96f4afce",
   "metadata": {},
   "outputs": [],
   "source": [
    "# This is a code chunk\n",
    "VINIX = ['C','MA','BA','PG','CSCO']"
   ]
  },
  {
   "cell_type": "code",
   "execution_count": 9,
   "id": "93287431",
   "metadata": {},
   "outputs": [
    {
     "name": "stdout",
     "output_type": "stream",
     "text": [
      "['C', 'MA', 'BA', 'PG', 'CSCO']\n"
     ]
    }
   ],
   "source": [
    "print(VINIX)"
   ]
  },
  {
   "cell_type": "code",
   "execution_count": 10,
   "id": "57eb9ebe",
   "metadata": {},
   "outputs": [
    {
     "data": {
      "text/plain": [
       "5"
      ]
     },
     "execution_count": 10,
     "metadata": {},
     "output_type": "execute_result"
    }
   ],
   "source": [
    "len(VINIX)"
   ]
  },
  {
   "cell_type": "code",
   "execution_count": 11,
   "id": "6ac9f4ee",
   "metadata": {},
   "outputs": [
    {
     "data": {
      "text/plain": [
       "list"
      ]
     },
     "execution_count": 11,
     "metadata": {},
     "output_type": "execute_result"
    }
   ],
   "source": [
    "type(VINIX)"
   ]
  },
  {
   "cell_type": "code",
   "execution_count": 12,
   "id": "d3850268",
   "metadata": {},
   "outputs": [
    {
     "data": {
      "text/plain": [
       "'CMA'"
      ]
     },
     "execution_count": 12,
     "metadata": {},
     "output_type": "execute_result"
    }
   ],
   "source": [
    "VINIX[0] + VINIX[1]"
   ]
  },
  {
   "cell_type": "code",
   "execution_count": 14,
   "id": "6ca11908",
   "metadata": {},
   "outputs": [
    {
     "data": {
      "text/plain": [
       "'C,MA,BA,PG,CSCO'"
      ]
     },
     "execution_count": 14,
     "metadata": {},
     "output_type": "execute_result"
    }
   ],
   "source": [
    "\",\".join(VINIX)"
   ]
  },
  {
   "cell_type": "markdown",
   "id": "20012db4",
   "metadata": {},
   "source": [
    "## Subheading 2: Markdown Chunk Example\n",
    "#### Markdown is a language that allows you to write responses in English along with the possibility of mathematical expression.\n",
    "\n",
    "#### VINIX is a variable in our workspace."
   ]
  },
  {
   "cell_type": "code",
   "execution_count": null,
   "id": "b6a395c5",
   "metadata": {},
   "outputs": [],
   "source": []
  }
 ],
 "metadata": {
  "kernelspec": {
   "display_name": "Python 3 (ipykernel)",
   "language": "python",
   "name": "python3"
  },
  "language_info": {
   "codemirror_mode": {
    "name": "ipython",
    "version": 3
   },
   "file_extension": ".py",
   "mimetype": "text/x-python",
   "name": "python",
   "nbconvert_exporter": "python",
   "pygments_lexer": "ipython3",
   "version": "3.9.13"
  }
 },
 "nbformat": 4,
 "nbformat_minor": 5
}
